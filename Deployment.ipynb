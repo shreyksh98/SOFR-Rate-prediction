{
 "cells": [
  {
   "cell_type": "code",
   "execution_count": 3,
   "metadata": {},
   "outputs": [],
   "source": [
    "\n",
    "\n",
    "import pandas as pd \n",
    "import numpy as np \n",
    "import pickle \n",
    "import streamlit as st \n",
    "from PIL import Image \n",
    "\n",
    "\n",
    "# loading in the model to predict on the data \n",
    "pickle_in = open('Model.pkl', 'rb')\n",
    "Predictor = pickle.load(pickle_in)\n",
    "\n",
    "def welcome(): \n",
    "    return 'welcome all'\n",
    "\n",
    "# defining the function which will make the prediction using \n",
    "# the data which the user inputs \n",
    "def prediction(Date): \n",
    "    dt_Index = pd.to_datetime(Date)\n",
    "    days_count = (dt_Index - pd.to_datetime('2020-11-18')).days\n",
    "    predictor = Predictor.forecast(horizon = 90)\n",
    "    prediction = np.sqrt(predictor.variance.values[-1,:][days_count])\n",
    "    print(prediction) \n",
    "    return prediction \n",
    "\n",
    "\n",
    "# this is the main function in which we define our webpage \n",
    "def main(): \n",
    "    # giving the webpage a title \n",
    "    st.title(\"DAILY SOFR PREDICTION\") \n",
    "\n",
    "    # here we define some of the front end elements of the web page like \n",
    "    # the font and background color, the padding and the text to be displayed \n",
    "    html_temp = \"\"\" \n",
    "    <div style =\"background-color:yellow;padding:13px\"> \n",
    "    <h1 style =\"color:black;text-align:center;\">Everyday SOFR prediction App </h1> \n",
    "    </div> \n",
    "    \"\"\"\n",
    "\n",
    "    # this line allows us to display the front end aspects we have \n",
    "    # defined in the above code \n",
    "    st.markdown(html_temp, unsafe_allow_html = True) \n",
    "\n",
    "    # the following lines create text boxes in which the user can enter \n",
    "    # the data required to make the prediction \n",
    "    Date = st.date_input('Date input')\n",
    "    result =\"\" \n",
    "\n",
    "    # the below line ensures that when the button called 'Predict' is clicked, \n",
    "    # the prediction function defined above is called to make the prediction \n",
    "    # and store it in the variable result \n",
    "    if st.button(\"Predict\"): \n",
    "        result = round(prediction(Date),4) \n",
    "    st.success('Volatility prediction of SOFR for this day {}'.format(result)) \n",
    "\n",
    "if __name__=='__main__': \n",
    "    main() \n"
   ]
  },
  {
   "cell_type": "code",
   "execution_count": null,
   "metadata": {},
   "outputs": [],
   "source": []
  }
 ],
 "metadata": {
  "kernelspec": {
   "display_name": "Python 3",
   "language": "python",
   "name": "python3"
  },
  "language_info": {
   "codemirror_mode": {
    "name": "ipython",
    "version": 3
   },
   "file_extension": ".py",
   "mimetype": "text/x-python",
   "name": "python",
   "nbconvert_exporter": "python",
   "pygments_lexer": "ipython3",
   "version": "3.7.4"
  }
 },
 "nbformat": 4,
 "nbformat_minor": 4
}
