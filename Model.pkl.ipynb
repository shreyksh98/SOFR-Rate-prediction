{
 "cells": [
  {
   "cell_type": "code",
   "execution_count": 1,
   "metadata": {},
   "outputs": [],
   "source": [
    "import numpy as np\n",
    "from datetime import datetime\n",
    "import pandas as pd\n",
    "import matplotlib.pyplot as plt\n",
    "import numpy as np\n",
    "from arch import arch_model\n",
    "from statsmodels.graphics.tsaplots import plot_acf, plot_pacf\n",
    "from sklearn.model_selection import TimeSeriesSplit\n",
    "import statsmodels.api as sm\n",
    "import pickle \n",
    "import streamlit as st "
   ]
  },
  {
   "cell_type": "code",
   "execution_count": 2,
   "metadata": {},
   "outputs": [],
   "source": [
    "def parser(s):\n",
    "    return datetime.strptime(s, '%Y-%m-%d')"
   ]
  },
  {
   "cell_type": "code",
   "execution_count": 3,
   "metadata": {},
   "outputs": [
    {
     "data": {
      "text/html": [
       "<div>\n",
       "<style scoped>\n",
       "    .dataframe tbody tr th:only-of-type {\n",
       "        vertical-align: middle;\n",
       "    }\n",
       "\n",
       "    .dataframe tbody tr th {\n",
       "        vertical-align: top;\n",
       "    }\n",
       "\n",
       "    .dataframe thead th {\n",
       "        text-align: right;\n",
       "    }\n",
       "</style>\n",
       "<table border=\"1\" class=\"dataframe\">\n",
       "  <thead>\n",
       "    <tr style=\"text-align: right;\">\n",
       "      <th></th>\n",
       "      <th>BENCHMARK NAME</th>\n",
       "      <th>RATE\\n(PERCENT)</th>\n",
       "      <th>VOLUME (US$BILLIONS)</th>\n",
       "    </tr>\n",
       "    <tr>\n",
       "      <th>DATE</th>\n",
       "      <th></th>\n",
       "      <th></th>\n",
       "      <th></th>\n",
       "    </tr>\n",
       "  </thead>\n",
       "  <tbody>\n",
       "    <tr>\n",
       "      <th>2018-04-02</th>\n",
       "      <td>SOFR</td>\n",
       "      <td>1.80</td>\n",
       "      <td>849</td>\n",
       "    </tr>\n",
       "    <tr>\n",
       "      <th>2018-04-03</th>\n",
       "      <td>SOFR</td>\n",
       "      <td>1.83</td>\n",
       "      <td>825</td>\n",
       "    </tr>\n",
       "    <tr>\n",
       "      <th>2018-04-04</th>\n",
       "      <td>SOFR</td>\n",
       "      <td>1.74</td>\n",
       "      <td>859</td>\n",
       "    </tr>\n",
       "    <tr>\n",
       "      <th>2018-04-05</th>\n",
       "      <td>SOFR</td>\n",
       "      <td>1.75</td>\n",
       "      <td>829</td>\n",
       "    </tr>\n",
       "    <tr>\n",
       "      <th>2018-04-06</th>\n",
       "      <td>SOFR</td>\n",
       "      <td>1.75</td>\n",
       "      <td>845</td>\n",
       "    </tr>\n",
       "  </tbody>\n",
       "</table>\n",
       "</div>"
      ],
      "text/plain": [
       "            BENCHMARK NAME   RATE\\n(PERCENT) VOLUME (US$BILLIONS)\n",
       "DATE                                                             \n",
       "2018-04-02             SOFR             1.80                  849\n",
       "2018-04-03             SOFR             1.83                  825\n",
       "2018-04-04             SOFR             1.74                  859\n",
       "2018-04-05             SOFR             1.75                  829\n",
       "2018-04-06             SOFR             1.75                  845"
      ]
     },
     "execution_count": 3,
     "metadata": {},
     "output_type": "execute_result"
    }
   ],
   "source": [
    "path = 'F:/Stevens1/2020 Fall Course/Advanced Data Analytics and Machine Learning/DSB_python/Final_Project/sofr_.csv'\n",
    "new_df = pd.read_csv(path, parse_dates=[0], index_col=0, squeeze=True, date_parser=parser)\n",
    "new_df.head(5)\n"
   ]
  },
  {
   "cell_type": "code",
   "execution_count": 4,
   "metadata": {},
   "outputs": [
    {
     "name": "stderr",
     "output_type": "stream",
     "text": [
      "2020-12-12 19:27:29.456 INFO    numexpr.utils: NumExpr defaulting to 4 threads.\n"
     ]
    },
    {
     "data": {
      "text/plain": [
       "DATE\n",
       "2020-10-30    0.000000\n",
       "2020-10-31    0.000000\n",
       "2020-11-01    0.000000\n",
       "2020-11-02    0.222222\n",
       "2020-11-03   -0.090909\n",
       "2020-11-04    0.000000\n",
       "2020-11-05    0.100000\n",
       "2020-11-06   -0.090909\n",
       "2020-11-07    0.000000\n",
       "2020-11-08    0.000000\n",
       "2020-11-09    0.000000\n",
       "2020-11-10    0.000000\n",
       "2020-11-11    0.000000\n",
       "2020-11-12   -0.100000\n",
       "2020-11-13    0.000000\n",
       "2020-11-14    0.000000\n",
       "2020-11-15    0.000000\n",
       "2020-11-16    0.111111\n",
       "2020-11-17   -0.100000\n",
       "2020-11-18   -0.222222\n",
       "Freq: D, Name: RATE\\n(PERCENT), dtype: float64"
      ]
     },
     "execution_count": 4,
     "metadata": {},
     "output_type": "execute_result"
    }
   ],
   "source": [
    "new_df = new_df.asfreq(pd.infer_freq(new_df.index))\n",
    "rate = new_df['RATE\\n(PERCENT)']\n",
    "rate.tail(20) \n",
    "rate = rate.fillna(method='ffill')\n",
    "rate = rate.pct_change().dropna()\n",
    "\n",
    "rate.tail(20) \n"
   ]
  },
  {
   "cell_type": "code",
   "execution_count": 5,
   "metadata": {},
   "outputs": [
    {
     "name": "stdout",
     "output_type": "stream",
     "text": [
      "Iteration:      1,   Func. Count:      6,   Neg. LLF: -1093.4878918059114\n",
      "Iteration:      2,   Func. Count:     19,   Neg. LLF: -1103.8756353444394\n",
      "Iteration:      3,   Func. Count:     31,   Neg. LLF: -1106.150351959181\n",
      "Iteration:      4,   Func. Count:     43,   Neg. LLF: -1106.1516555694807\n",
      "Optimization terminated successfully.    (Exit mode 0)\n",
      "            Current function value: -1106.1516456430495\n",
      "            Iterations: 8\n",
      "            Function evaluations: 43\n",
      "            Gradient evaluations: 4\n"
     ]
    },
    {
     "name": "stderr",
     "output_type": "stream",
     "text": [
      "E:\\ANACONDA\\lib\\site-packages\\arch\\univariate\\base.py:293: DataScaleWarning: y is poorly scaled, which may affect convergence of the optimizer when\n",
      "estimating the model parameters. The scale of y is 0.03286. Parameter\n",
      "estimation work better when this value is between 1 and 1000. The recommended\n",
      "rescaling is 10 * y.\n",
      "\n",
      "This warning can be disabled by either rescaling y before initializing the\n",
      "model or by setting rescale=False.\n",
      "\n",
      "  data_scale_warning.format(orig_scale, rescale), DataScaleWarning\n"
     ]
    },
    {
     "data": {
      "text/html": [
       "<table class=\"simpletable\">\n",
       "<caption>Constant Mean - GARCH Model Results</caption>\n",
       "<tr>\n",
       "  <th>Dep. Variable:</th>   <td>RATE\n",
       "(PERCENT)</td>   <th>  R-squared:         </th>  <td>  -0.003</td> \n",
       "</tr>\n",
       "<tr>\n",
       "  <th>Mean Model:</th>       <td>Constant Mean</td>   <th>  Adj. R-squared:    </th>  <td>  -0.003</td> \n",
       "</tr>\n",
       "<tr>\n",
       "  <th>Vol Model:</th>            <td>GARCH</td>       <th>  Log-Likelihood:    </th> <td>   1106.15</td>\n",
       "</tr>\n",
       "<tr>\n",
       "  <th>Distribution:</th>        <td>Normal</td>       <th>  AIC:               </th> <td>  -2204.30</td>\n",
       "</tr>\n",
       "<tr>\n",
       "  <th>Method:</th>        <td>Maximum Likelihood</td> <th>  BIC:               </th> <td>  -2184.83</td>\n",
       "</tr>\n",
       "<tr>\n",
       "  <th></th>                        <td></td>          <th>  No. Observations:  </th>     <td>961</td>   \n",
       "</tr>\n",
       "<tr>\n",
       "  <th>Date:</th>           <td>Sat, Dec 12 2020</td>  <th>  Df Residuals:      </th>     <td>957</td>   \n",
       "</tr>\n",
       "<tr>\n",
       "  <th>Time:</th>               <td>19:27:30</td>      <th>  Df Model:          </th>      <td>4</td>    \n",
       "</tr>\n",
       "</table>\n",
       "<table class=\"simpletable\">\n",
       "<caption>Mean Model</caption>\n",
       "<tr>\n",
       "   <td></td>     <th>coef</th>      <th>std err</th>      <th>t</th>       <th>P>|t|</th>      <th>95.0% Conf. Int.</th>   \n",
       "</tr>\n",
       "<tr>\n",
       "  <th>mu</th> <td>-1.1573e-03</td> <td>3.752e-03</td> <td>   -0.308</td> <td>    0.758</td> <td>[-8.512e-03,6.197e-03]</td>\n",
       "</tr>\n",
       "</table>\n",
       "<table class=\"simpletable\">\n",
       "<caption>Volatility Model</caption>\n",
       "<tr>\n",
       "      <td></td>        <th>coef</th>     <th>std err</th>      <th>t</th>       <th>P>|t|</th>     <th>95.0% Conf. Int.</th>   \n",
       "</tr>\n",
       "<tr>\n",
       "  <th>omega</th>    <td>6.5798e-04</td> <td>3.102e-04</td> <td>    2.121</td> <td>3.389e-02</td> <td>[5.008e-05,1.266e-03]</td>\n",
       "</tr>\n",
       "<tr>\n",
       "  <th>alpha[1]</th> <td>    0.2000</td> <td>    0.104</td> <td>    1.929</td> <td>5.369e-02</td> <td>[-3.174e-03,  0.403]</td> \n",
       "</tr>\n",
       "<tr>\n",
       "  <th>beta[1]</th>  <td>    0.7800</td> <td>5.552e-02</td> <td>   14.050</td> <td>7.692e-45</td>   <td>[  0.671,  0.889]</td>  \n",
       "</tr>\n",
       "</table><br/><br/>Covariance estimator: robust"
      ],
      "text/plain": [
       "<class 'statsmodels.iolib.summary.Summary'>\n",
       "\"\"\"\n",
       "                     Constant Mean - GARCH Model Results                      \n",
       "==============================================================================\n",
       "Dep. Variable:         RATE\n",
       "(PERCENT)   R-squared:                      -0.003\n",
       "Mean Model:             Constant Mean   Adj. R-squared:                 -0.003\n",
       "Vol Model:                      GARCH   Log-Likelihood:                1106.15\n",
       "Distribution:                  Normal   AIC:                          -2204.30\n",
       "Method:            Maximum Likelihood   BIC:                          -2184.83\n",
       "                                        No. Observations:                  961\n",
       "Date:                Sat, Dec 12 2020   Df Residuals:                      957\n",
       "Time:                        19:27:30   Df Model:                            4\n",
       "                                  Mean Model                                  \n",
       "==============================================================================\n",
       "                  coef    std err          t      P>|t|       95.0% Conf. Int.\n",
       "------------------------------------------------------------------------------\n",
       "mu         -1.1573e-03  3.752e-03     -0.308      0.758 [-8.512e-03,6.197e-03]\n",
       "                              Volatility Model                              \n",
       "============================================================================\n",
       "                 coef    std err          t      P>|t|      95.0% Conf. Int.\n",
       "----------------------------------------------------------------------------\n",
       "omega      6.5798e-04  3.102e-04      2.121  3.389e-02 [5.008e-05,1.266e-03]\n",
       "alpha[1]       0.2000      0.104      1.929  5.369e-02  [-3.174e-03,  0.403]\n",
       "beta[1]        0.7800  5.552e-02     14.050  7.692e-45     [  0.671,  0.889]\n",
       "============================================================================\n",
       "\n",
       "Covariance estimator: robust\n",
       "\"\"\""
      ]
     },
     "execution_count": 5,
     "metadata": {},
     "output_type": "execute_result"
    }
   ],
   "source": [
    "model = arch_model(rate, p=1, q=1)\n",
    "model_fit = model.fit()\n",
    "model_fit.summary()"
   ]
  },
  {
   "cell_type": "code",
   "execution_count": 6,
   "metadata": {},
   "outputs": [],
   "source": [
    "#Days = pd.to_datetime('2020-11-28') - pd.to_datetime('2020-11-18')\n",
    "#count = Days.days\n",
    "\n",
    "#prediction = model_fit.forecast(horizon = 20)\n",
    "#print(prediction.variance.values[-1,:][count])"
   ]
  },
  {
   "cell_type": "code",
   "execution_count": 7,
   "metadata": {},
   "outputs": [],
   "source": [
    "import pickle \n",
    "pickle_out = open(\"Model.pkl\", \"wb\") \n",
    "pickle.dump(model_fit, pickle_out) \n",
    "pickle_out.close()"
   ]
  },
  {
   "cell_type": "code",
   "execution_count": null,
   "metadata": {},
   "outputs": [],
   "source": []
  },
  {
   "cell_type": "code",
   "execution_count": null,
   "metadata": {},
   "outputs": [],
   "source": []
  }
 ],
 "metadata": {
  "kernelspec": {
   "display_name": "Python 3",
   "language": "python",
   "name": "python3"
  },
  "language_info": {
   "codemirror_mode": {
    "name": "ipython",
    "version": 3
   },
   "file_extension": ".py",
   "mimetype": "text/x-python",
   "name": "python",
   "nbconvert_exporter": "python",
   "pygments_lexer": "ipython3",
   "version": "3.7.4"
  }
 },
 "nbformat": 4,
 "nbformat_minor": 4
}
